{
 "cells": [
  {
   "cell_type": "code",
   "execution_count": 11,
   "metadata": {},
   "outputs": [
    {
     "name": "stdout",
     "output_type": "stream",
     "text": [
      "Data loaded successfully.\n"
     ]
    }
   ],
   "source": [
    "import sys\n",
    "import os\n",
    "\n",
    "# Add the path to the scripts directory\n",
    "sys.path.append(os.path.abspath('../scripts'))\n",
    "\n",
    "# Import the ModelTrainingclass from model moudle\n",
    "from model import ModelTraining\n",
    "\n",
    "# Initialize the ModelTraining class with the data path\n",
    "data_path = '../src/Data/rfms.csv'\n",
    "model_training = ModelTraining(data_path)"
   ]
  },
  {
   "cell_type": "markdown",
   "metadata": {},
   "source": [
    "1: Split the Data"
   ]
  },
  {
   "cell_type": "code",
   "execution_count": 12,
   "metadata": {},
   "outputs": [
    {
     "name": "stdout",
     "output_type": "stream",
     "text": [
      "X_train shape: (75960, 6)\n",
      "X_test shape: (18990, 6)\n",
      "y_train shape: (75960,)\n",
      "y_test shape: (18990,)\n"
     ]
    }
   ],
   "source": [
    "# Split the data\n",
    "model_training.split_data()"
   ]
  },
  {
   "cell_type": "markdown",
   "metadata": {},
   "source": [
    "2: Choose Models: \n",
    "\n",
    "We'll choose Logistic Regression and Random Forest."
   ]
  },
  {
   "cell_type": "markdown",
   "metadata": {},
   "source": [
    "3: Train the Models\n",
    "\n",
    "Logistic Regression"
   ]
  },
  {
   "cell_type": "code",
   "execution_count": 13,
   "metadata": {},
   "outputs": [
    {
     "name": "stdout",
     "output_type": "stream",
     "text": [
      "Logistic Regression model trained successfully.\n"
     ]
    }
   ],
   "source": [
    "# Train Logistic Regression model\n",
    "model_training.train_logistic_regression()"
   ]
  },
  {
   "cell_type": "markdown",
   "metadata": {},
   "source": [
    "Random Forest"
   ]
  },
  {
   "cell_type": "code",
   "execution_count": 14,
   "metadata": {},
   "outputs": [
    {
     "name": "stdout",
     "output_type": "stream",
     "text": [
      "Random Forest model trained successfully.\n"
     ]
    }
   ],
   "source": [
    "# Train Random Forest model\n",
    "model_training.train_random_forest()"
   ]
  },
  {
   "cell_type": "markdown",
   "metadata": {},
   "source": [
    "4: Hyperparameter Tuning\n",
    "\n",
    "Grid Search for Logistic Regression"
   ]
  },
  {
   "cell_type": "code",
   "execution_count": 15,
   "metadata": {},
   "outputs": [
    {
     "name": "stdout",
     "output_type": "stream",
     "text": [
      "Best parameters for Logistic Regression: {'C': 10, 'solver': 'liblinear'}\n",
      "Best score for Logistic Regression: 0.9126908899420746\n"
     ]
    }
   ],
   "source": [
    "# Hyperparameter tuning for Logistic Regression\n",
    "model_training.hyperparameter_tuning_log_reg()"
   ]
  },
  {
   "cell_type": "markdown",
   "metadata": {},
   "source": [
    "Random Search for Random Forest"
   ]
  },
  {
   "cell_type": "code",
   "execution_count": 16,
   "metadata": {},
   "outputs": [
    {
     "name": "stdout",
     "output_type": "stream",
     "text": [
      "Best parameters for Random Forest: {'n_estimators': 300, 'min_samples_split': 2, 'min_samples_leaf': 1, 'max_depth': 30}\n",
      "Best score for Random Forest: 0.9958925750394944\n"
     ]
    }
   ],
   "source": [
    "# Hyperparameter tuning for Random Forest\n",
    "model_training.hyperparameter_tuning_rf()"
   ]
  },
  {
   "cell_type": "markdown",
   "metadata": {},
   "source": [
    "5: Model Evaluation"
   ]
  },
  {
   "cell_type": "code",
   "execution_count": 17,
   "metadata": {},
   "outputs": [
    {
     "name": "stdout",
     "output_type": "stream",
     "text": [
      "      Metric  Logistic Regression  Random Forest\n",
      "0   Accuracy             0.910848       0.995893\n",
      "1  Precision             0.910848       0.997918\n",
      "2     Recall             1.000000       0.997572\n",
      "3   F1 Score             0.953344       0.997745\n",
      "4    ROC-AUC             0.989788       0.999703\n"
     ]
    }
   ],
   "source": [
    "# Evaluate models\n",
    "model_training.evaluate_models()"
   ]
  },
  {
   "cell_type": "markdown",
   "metadata": {},
   "source": [
    "6: Save the Random Forest Model"
   ]
  },
  {
   "cell_type": "code",
   "execution_count": 18,
   "metadata": {},
   "outputs": [
    {
     "name": "stdout",
     "output_type": "stream",
     "text": [
      "Model saved successfully as random_forest_model.pkl\n"
     ]
    }
   ],
   "source": [
    "# Save the Random Forest model\n",
    "model_training.save_model(model_training.rf, 'random_forest_model.pkl')"
   ]
  }
 ],
 "metadata": {
  "kernelspec": {
   "display_name": ".venv",
   "language": "python",
   "name": "python3"
  },
  "language_info": {
   "codemirror_mode": {
    "name": "ipython",
    "version": 3
   },
   "file_extension": ".py",
   "mimetype": "text/x-python",
   "name": "python",
   "nbconvert_exporter": "python",
   "pygments_lexer": "ipython3",
   "version": "3.12.7"
  }
 },
 "nbformat": 4,
 "nbformat_minor": 2
}
